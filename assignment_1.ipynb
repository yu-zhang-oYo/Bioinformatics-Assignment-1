{
 "cells": [
  {
   "cell_type": "markdown",
   "metadata": {},
   "source": [
    "# Chapter-SM, Exercise 1"
   ]
  },
  {
   "cell_type": "markdown",
   "metadata": {},
   "source": [
    "(i)  For the DNA sequence ACGCTGA, the number of mononucleotide permutation is $\\frac{7!}{2!2!2!1!}=630$.\n",
    "\n",
    "(ii) all dinucleotide permutations that also preserve the mononucleotide composition: ACGCTGA, ACTGCGA.\n",
    "\n",
    "(iii) additional dinucleotide permutations that do not preserve the mononucleotide composition: CTGCGAC, CTGACGC, CGCTGAC, CGACTGC, TGACGCT, TGCGACT, GACGCTG, GACTGCG, GCGACTG, GCTGACG. This is possible because those sequences start and end with any letters instead of letters at the beginning and end of ACGCTGA (here A and A). This makes the composition of the sequences different from that of ACGCTGA."
   ]
  },
  {
   "cell_type": "markdown",
   "metadata": {},
   "source": [
    "# the expected waiting time"
   ]
  },
  {
   "cell_type": "markdown",
   "metadata": {},
   "source": [
    "(i) $$\\mu_Y=1+p\\mu_R+q\\mu_Y\\\\\n",
    "      \\mu_R=1+q\\mu_Y $$\n",
    "   so, $\\mu_Y=\\frac{1+p}{p^2}$ and  $\\mu_R=1-\\mu_Y=\\frac{p^2-1-p}{p^2}$.\n",
    "The expected waiting time to pattern RR is $\\mu=1+p\\mu_R+q\\mu_Y=\\mu_Y=\\frac{1+p}{p^2}$\n",
    "\n",
    "(ii) $$\\mu_Y=1+p\\mu_R+q\\mu_Y\\\\\n",
    "     \\mu_R=1+p\\mu_R $$\n",
    "   so, $\\mu_R=\\frac{1}{1-p}$ and $\\mu_Y=\\frac{1}{p(1-p)}$. \n",
    "The expected waiting time to pattern RY is $\\mu=1+p\\mu_R+q\\mu_Y=\\mu_Y=\\frac{1}{p(1-p)}$.\n",
    "\n",
    "(iii) When $p=0.5$, the expected waiting time of RR is $\\mu=\\frac{1+p}{p^2}=6$ and that of RY is $\\mu=\\frac{1}{p(1-p)}=4$. When $p=0.75$, the expected waiting time of RR is $\\mu=\\frac{1+p}{p^2}=3.111$ and that of RY is $\\mu=\\frac{1}{p(1-p)}=5.333$. When $p$ is larger, R is more likely to happen and the waiting time for RR will be shorter and that for RY will be longer obviously.\n"
   ]
  },
  {
   "cell_type": "markdown",
   "metadata": {},
   "source": [
    "(iv) Compare results from the simulation with (iii), we can find they are similar. "
   ]
  },
  {
   "cell_type": "code",
   "execution_count": 1,
   "metadata": {},
   "outputs": [
    {
     "name": "stdout",
     "output_type": "stream",
     "text": [
      "Average waiting time for 1000 sequences: 5.921\n"
     ]
    }
   ],
   "source": [
    "import numpy as np\n",
    "from random import random\n",
    "def waiting_time(probability, pattern) :\n",
    "    \n",
    "    # sanity check on composition\n",
    "    assert  abs(sum(probability.values())-1) < 0.01, \"Probability do not add up to 1.\"\n",
    "    \n",
    "    # sanity check on pattern\n",
    "    for letter in pattern:\n",
    "        assert letter in probability, \"Pattern involves letters not specified in composition\"\n",
    "        \n",
    "    pattern_size = len(pattern)\n",
    "    sequence =''\n",
    "    while len(sequence) < pattern_size or sequence[-pattern_size:] != pattern :\n",
    "        ran = random()\n",
    "        p = 0\n",
    "        for letter in probability :\n",
    "            p += probability[letter]\n",
    "            if ran<p:\n",
    "                sequence += letter\n",
    "                break\n",
    "    return len(sequence)\n",
    "\n",
    "# Composition\n",
    "probability = dict()\n",
    "probability['R']=0.5\n",
    "probability['Y']=0.5\n",
    "\n",
    "# target pattern\n",
    "pattern = \"RR\"\n",
    "\n",
    "# numbers of paterns to generate to find the average waiting time\n",
    "n = 1000\n",
    "waiting_times = [waiting_time(probability, pattern) for i in range(n)]\n",
    "print(\"Average waiting time for %d sequences: %.3f\" % (n, np.mean(waiting_times)))\n"
   ]
  },
  {
   "cell_type": "code",
   "execution_count": 3,
   "metadata": {},
   "outputs": [
    {
     "name": "stdout",
     "output_type": "stream",
     "text": [
      "Average waiting time for 1000 sequences: 3.954\n"
     ]
    }
   ],
   "source": [
    "# Composition\n",
    "probability = dict()\n",
    "probability['R']=0.5\n",
    "probability['Y']=0.5\n",
    "\n",
    "# target pattern\n",
    "pattern = \"RY\"\n",
    "\n",
    "# numbers of paterns to generate to find the average waiting time\n",
    "n = 1000\n",
    "waiting_times = [waiting_time(probability, pattern) for i in range(n)]\n",
    "print(\"Average waiting time for %d sequences: %.3f\" % (n, np.mean(waiting_times)))\n"
   ]
  },
  {
   "cell_type": "code",
   "execution_count": 4,
   "metadata": {},
   "outputs": [
    {
     "name": "stdout",
     "output_type": "stream",
     "text": [
      "Average waiting time for 1000 sequences: 3.090\n"
     ]
    }
   ],
   "source": [
    "# Composition\n",
    "probability = dict()\n",
    "probability['R']=0.75\n",
    "probability['Y']=0.25\n",
    "\n",
    "# target pattern\n",
    "pattern = \"RR\"\n",
    "\n",
    "# numbers of paterns to generate to find the average waiting time\n",
    "n = 1000\n",
    "waiting_times = [waiting_time(probability, pattern) for i in range(n)]\n",
    "print(\"Average waiting time for %d sequences: %.3f\" % (n, np.mean(waiting_times)))\n"
   ]
  },
  {
   "cell_type": "code",
   "execution_count": 5,
   "metadata": {},
   "outputs": [
    {
     "name": "stdout",
     "output_type": "stream",
     "text": [
      "Average waiting time for 1000 sequences: 5.464\n"
     ]
    }
   ],
   "source": [
    "# Composition\n",
    "probability = dict()\n",
    "probability['R']=0.75\n",
    "probability['Y']=0.25\n",
    "\n",
    "# target pattern\n",
    "pattern = \"RY\"\n",
    "\n",
    "# numbers of paterns to generate to find the average waiting time\n",
    "n = 1000\n",
    "waiting_times = [waiting_time(probability, pattern) for i in range(n)]\n",
    "print(\"Average waiting time for %d sequences: %.3f\" % (n, np.mean(waiting_times)))\n"
   ]
  }
 ],
 "metadata": {
  "kernelspec": {
   "display_name": "Python 3",
   "language": "python",
   "name": "python3"
  },
  "language_info": {
   "codemirror_mode": {
    "name": "ipython",
    "version": 3
   },
   "file_extension": ".py",
   "mimetype": "text/x-python",
   "name": "python",
   "nbconvert_exporter": "python",
   "pygments_lexer": "ipython3",
   "version": "3.8.5"
  },
  "toc": {
   "base_numbering": 1,
   "nav_menu": {},
   "number_sections": true,
   "sideBar": true,
   "skip_h1_title": false,
   "title_cell": "Table of Contents",
   "title_sidebar": "Contents",
   "toc_cell": false,
   "toc_position": {},
   "toc_section_display": true,
   "toc_window_display": false
  }
 },
 "nbformat": 4,
 "nbformat_minor": 4
}
